{
 "cells": [
  {
   "attachments": {},
   "cell_type": "markdown",
   "metadata": {},
   "source": [
    "# Download Text"
   ]
  },
  {
   "attachments": {},
   "cell_type": "markdown",
   "metadata": {},
   "source": [
    "Download the text version of the PDF file."
   ]
  },
  {
   "cell_type": "code",
   "execution_count": 30,
   "metadata": {},
   "outputs": [],
   "source": [
    "import pandas as pd\n",
    "import requests as rq\n",
    "from pathlib import Path"
   ]
  },
  {
   "cell_type": "code",
   "execution_count": 31,
   "metadata": {},
   "outputs": [],
   "source": [
    "is_devel = True\n",
    "if is_devel:\n",
    "    repo_df = pd.read_csv('data/kaust_repo.csv')\n",
    "else:\n",
    "    repo_df = pd.read_csv('https://repository.kaust.edu.sa/bitstream/handle/10754/691066/KAUST_Affiliated_Research_Basic_Metadata.csv')"
   ]
  },
  {
   "attachments": {},
   "cell_type": "markdown",
   "metadata": {},
   "source": [
    "We create a series with the `url` to the extreacted text, and remove the missing values (`NaN`)"
   ]
  },
  {
   "cell_type": "code",
   "execution_count": 32,
   "metadata": {},
   "outputs": [],
   "source": [
    "text_url_list = repo_df[\"Link to Extracted Text\"].dropna()"
   ]
  },
  {
   "cell_type": "code",
   "execution_count": 33,
   "metadata": {},
   "outputs": [
    {
     "name": "stdout",
     "output_type": "stream",
     "text": [
      "https://repository.kaust.edu.sa/bitstream/handle/10754/691095/383319ec-7776-4f6b-b692-fc017931f7c1.pdf.txt\n",
      "https://repository.kaust.edu.sa/bitstream/handle/10754/691094/2304.04617.pdf.txt\n",
      "https://repository.kaust.edu.sa/bitstream/handle/10754/691093/2304.04565%20%281%29.pdf.txt\n",
      "https://repository.kaust.edu.sa/bitstream/handle/10754/691091/2304.04220.pdf.txt\n",
      "https://repository.kaust.edu.sa/bitstream/handle/10754/691090/2304.04232.pdf.txt\n",
      "https://repository.kaust.edu.sa/bitstream/handle/10754/691088/2304.04315%20%281%29.pdf.txt\n",
      "https://repository.kaust.edu.sa/bitstream/handle/10754/691087/2023.04.06.535971v1.full%20%281%29.pdf.txt\n",
      "https://repository.kaust.edu.sa/bitstream/handle/10754/691086/2304.03900.pdf.txt\n",
      "https://repository.kaust.edu.sa/bitstream/handle/10754/691085/2304.03708.pdf.txt\n",
      "https://repository.kaust.edu.sa/bitstream/handle/10754/691083/OptimalEvasivePathPlanning.pdf.txt\n",
      "https://repository.kaust.edu.sa/bitstream/handle/10754/691082/MultimodalAsymmetric.pdf.txt\n",
      "https://repository.kaust.edu.sa/bitstream/handle/10754/691079/3DAutonomous.pdf.txt\n",
      "https://repository.kaust.edu.sa/bitstream/handle/10754/691077/UnsupervisedImageDataset.pdf.txt\n",
      "https://repository.kaust.edu.sa/bitstream/handle/10754/691076/AcentralizedMultistring.pdf.txt\n",
      "https://repository.kaust.edu.sa/bitstream/handle/10754/691073/acsaem.3c00292.pdf.txt\n"
     ]
    }
   ],
   "source": [
    "for ii in text_url_list:\n",
    "    print(ii)"
   ]
  },
  {
   "attachments": {},
   "cell_type": "markdown",
   "metadata": {},
   "source": [
    "We define a simple function to download the files. The function accepts an optional parameter `text_dir` with the directory to where save the files, if not provided, it will save to the directory running the script."
   ]
  },
  {
   "cell_type": "code",
   "execution_count": 34,
   "metadata": {},
   "outputs": [],
   "source": [
    "def get_text(url_list, text_dir=\"\"):\n",
    "    \"\"\"Download the items from a list of URLs.\"\"\"\n",
    "    if text_dir:\n",
    "        dir = Path(text_dir)    \n",
    "    for ll in url_list:\n",
    "        if text_dir:\n",
    "            file_name = dir.joinpath(ll.split('/')[-1])\n",
    "        else:\n",
    "            file_name = ll.split('/')[-1]\n",
    "        print(f\"Downloading file '{file_name}'\")\n",
    "        with open(file_name, 'wb') as ff:\n",
    "            response = rq.get(ll)\n",
    "            ff.write(response.content)"
   ]
  },
  {
   "attachments": {},
   "cell_type": "markdown",
   "metadata": {},
   "source": [
    "For example, we provide a directory called `text` to save the files"
   ]
  },
  {
   "cell_type": "code",
   "execution_count": 35,
   "metadata": {},
   "outputs": [
    {
     "name": "stdout",
     "output_type": "stream",
     "text": [
      "Downloading file 'text\\383319ec-7776-4f6b-b692-fc017931f7c1.pdf.txt'\n",
      "Downloading file 'text\\2304.04617.pdf.txt'\n",
      "Downloading file 'text\\2304.04565%20%281%29.pdf.txt'\n",
      "Downloading file 'text\\2304.04220.pdf.txt'\n",
      "Downloading file 'text\\2304.04232.pdf.txt'\n",
      "Downloading file 'text\\2304.04315%20%281%29.pdf.txt'\n",
      "Downloading file 'text\\2023.04.06.535971v1.full%20%281%29.pdf.txt'\n",
      "Downloading file 'text\\2304.03900.pdf.txt'\n",
      "Downloading file 'text\\2304.03708.pdf.txt'\n",
      "Downloading file 'text\\OptimalEvasivePathPlanning.pdf.txt'\n",
      "Downloading file 'text\\MultimodalAsymmetric.pdf.txt'\n",
      "Downloading file 'text\\3DAutonomous.pdf.txt'\n",
      "Downloading file 'text\\UnsupervisedImageDataset.pdf.txt'\n",
      "Downloading file 'text\\AcentralizedMultistring.pdf.txt'\n",
      "Downloading file 'text\\acsaem.3c00292.pdf.txt'\n"
     ]
    }
   ],
   "source": [
    "get_text(text_url_list, \"text\")"
   ]
  },
  {
   "attachments": {},
   "cell_type": "markdown",
   "metadata": {},
   "source": [
    "Instead we can save the URL list to a file and use an external tool like `wget` or `curl` to download the files:"
   ]
  },
  {
   "cell_type": "code",
   "execution_count": 38,
   "metadata": {},
   "outputs": [],
   "source": [
    "text_url_list.to_csv('files_url.txt', index=False, header=False)"
   ]
  },
  {
   "attachments": {},
   "cell_type": "markdown",
   "metadata": {},
   "source": [
    "The result will similar to this:\n",
    "\n",
    "```\n",
    "(venv) PS C:\\Users\\garcm0b\\Work\\RepoDataset> cat .\\files_url.txt\n",
    "https://repository.kaust.edu.sa/bitstream/handle/10754/691095/383319ec-7776-4f6b-b692-fc017931f7c1.pdf.txt\n",
    "https://repository.kaust.edu.sa/bitstream/handle/10754/691094/2304.04617.pdf.txt\n",
    "https://repository.kaust.edu.sa/bitstream/handle/10754/691093/2304.04565%20%281%29.pdf.txt\n",
    "(...)\n",
    "```"
   ]
  }
 ],
 "metadata": {
  "kernelspec": {
   "display_name": "venv",
   "language": "python",
   "name": "python3"
  },
  "language_info": {
   "codemirror_mode": {
    "name": "ipython",
    "version": 3
   },
   "file_extension": ".py",
   "mimetype": "text/x-python",
   "name": "python",
   "nbconvert_exporter": "python",
   "pygments_lexer": "ipython3",
   "version": "3.10.10"
  },
  "orig_nbformat": 4
 },
 "nbformat": 4,
 "nbformat_minor": 2
}
