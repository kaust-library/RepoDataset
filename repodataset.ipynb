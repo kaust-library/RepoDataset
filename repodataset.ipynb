{
 "cells": [
  {
   "attachments": {},
   "cell_type": "markdown",
   "metadata": {},
   "source": [
    "# Repository Metadata Dataset"
   ]
  },
  {
   "attachments": {},
   "cell_type": "markdown",
   "metadata": {},
   "source": [
    "Dataset with KAUST affiliate research output."
   ]
  },
  {
   "cell_type": "code",
   "execution_count": null,
   "metadata": {},
   "outputs": [],
   "source": [
    "import pandas as pd"
   ]
  },
  {
   "attachments": {},
   "cell_type": "markdown",
   "metadata": {},
   "source": [
    "We provide with the notebook a sample CSV file. The idea is to use a smaller file to development, and we are ready to test on the full CSV file, we can disable the development \"mode.\""
   ]
  },
  {
   "cell_type": "code",
   "execution_count": null,
   "metadata": {},
   "outputs": [],
   "source": [
    "is_devel = True\n",
    "if is_devel:\n",
    "    repo_df = pd.read_csv('data/kaust_repo.csv', parse_dates=[\"Publication Date\",\"Metadata Last Modified\"])\n",
    "else:\n",
    "    repo_df = pd.read_csv('https://repository.kaust.edu.sa/bitstream/handle/10754/691066/KAUST_Affiliated_Research_Basic_Metadata.csv', parse_dates=[\"Publication Date\",\"Metadata Last Modified\"])"
   ]
  },
  {
   "cell_type": "code",
   "execution_count": null,
   "metadata": {},
   "outputs": [],
   "source": [
    "repo_df.head()"
   ]
  },
  {
   "attachments": {},
   "cell_type": "markdown",
   "metadata": {},
   "source": [
    "We want to know the shape of our dataset. The shape is tupple (rows, columns):"
   ]
  },
  {
   "cell_type": "code",
   "execution_count": null,
   "metadata": {},
   "outputs": [],
   "source": [
    "repo_df.shape"
   ]
  },
  {
   "attachments": {},
   "cell_type": "markdown",
   "metadata": {},
   "source": [
    "## Counting Publication Types"
   ]
  },
  {
   "attachments": {},
   "cell_type": "markdown",
   "metadata": {},
   "source": [
    "Couting the type of publications, that is, how many articles, preprints, etc are in the dataset. "
   ]
  },
  {
   "cell_type": "code",
   "execution_count": null,
   "metadata": {},
   "outputs": [],
   "source": [
    "top_pub = repo_df['Type'].value_counts().head(n=5)\n",
    "top_pub"
   ]
  },
  {
   "attachments": {},
   "cell_type": "markdown",
   "metadata": {},
   "source": [
    "Probably was expected that the majority of publications are _articles_. We create a pie chart to make easier to visualize the information"
   ]
  },
  {
   "cell_type": "code",
   "execution_count": null,
   "metadata": {},
   "outputs": [],
   "source": [
    "plot_pub = top_pub.plot(kind=\"pie\", legend=False, autopct=\"%.f\", figsize=(5,4))\n",
    "fig_pub = plot_pub.get_figure()\n",
    "fig_pub.savefig('figs/top_pub_types.png')"
   ]
  },
  {
   "attachments": {},
   "cell_type": "markdown",
   "metadata": {},
   "source": [
    "Next we have a look of top journals. What are the top 10 journals that our community publishes?"
   ]
  },
  {
   "cell_type": "code",
   "execution_count": null,
   "metadata": {},
   "outputs": [],
   "source": [
    "artices = repo_df['Type'] == \"Article\"\n",
    "articles_df = repo_df[artices]"
   ]
  },
  {
   "cell_type": "code",
   "execution_count": null,
   "metadata": {},
   "outputs": [],
   "source": [
    "top_journals = articles_df['Publisher'].value_counts().head(10)\n",
    "top_journals"
   ]
  },
  {
   "cell_type": "code",
   "execution_count": null,
   "metadata": {},
   "outputs": [],
   "source": [
    "plot_journals = top_journals.plot(kind=\"pie\", legend=False, autopct=\"%.f\", figsize=(10,4))\n",
    "fig_journals = plot_journals.get_figure()\n",
    "fig_journals.savefig('figs/top_publishers.png')"
   ]
  }
 ],
 "metadata": {
  "kernelspec": {
   "display_name": "venv",
   "language": "python",
   "name": "python3"
  },
  "language_info": {
   "codemirror_mode": {
    "name": "ipython",
    "version": 3
   },
   "file_extension": ".py",
   "mimetype": "text/x-python",
   "name": "python",
   "nbconvert_exporter": "python",
   "pygments_lexer": "ipython3",
   "version": "3.10.10"
  },
  "orig_nbformat": 4
 },
 "nbformat": 4,
 "nbformat_minor": 2
}
