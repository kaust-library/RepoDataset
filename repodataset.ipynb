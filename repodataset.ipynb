{
 "cells": [
  {
   "attachments": {},
   "cell_type": "markdown",
   "metadata": {},
   "source": [
    "# Repository Metadata Dataset"
   ]
  },
  {
   "attachments": {},
   "cell_type": "markdown",
   "metadata": {},
   "source": [
    "Dataset with KAUST affiliate research output."
   ]
  },
  {
   "cell_type": "code",
   "execution_count": 3,
   "metadata": {},
   "outputs": [],
   "source": [
    "import pandas as pd"
   ]
  },
  {
   "cell_type": "code",
   "execution_count": 4,
   "metadata": {},
   "outputs": [],
   "source": [
    "repo_df = pd.read_csv('data/kaust_repo.csv',parse_dates=[\"Publication Date\"])"
   ]
  },
  {
   "cell_type": "code",
   "execution_count": 6,
   "metadata": {},
   "outputs": [
    {
     "data": {
      "text/html": [
       "<div>\n",
       "<style scoped>\n",
       "    .dataframe tbody tr th:only-of-type {\n",
       "        vertical-align: middle;\n",
       "    }\n",
       "\n",
       "    .dataframe tbody tr th {\n",
       "        vertical-align: top;\n",
       "    }\n",
       "\n",
       "    .dataframe thead th {\n",
       "        text-align: right;\n",
       "    }\n",
       "</style>\n",
       "<table border=\"1\" class=\"dataframe\">\n",
       "  <thead>\n",
       "    <tr style=\"text-align: right;\">\n",
       "      <th></th>\n",
       "      <th>Type</th>\n",
       "      <th>Title</th>\n",
       "      <th>Authors</th>\n",
       "      <th>Journal</th>\n",
       "      <th>Publisher</th>\n",
       "      <th>DOI</th>\n",
       "      <th>Handle</th>\n",
       "      <th>Publication Date</th>\n",
       "      <th>Citation</th>\n",
       "      <th>Abstract</th>\n",
       "      <th>Link to License</th>\n",
       "      <th>Status</th>\n",
       "      <th>Link to PDF</th>\n",
       "      <th>Link to Extracted Text</th>\n",
       "      <th>Metadata Last Modified</th>\n",
       "    </tr>\n",
       "  </thead>\n",
       "  <tbody>\n",
       "    <tr>\n",
       "      <th>0</th>\n",
       "      <td>Article</td>\n",
       "      <td>Semi-universal geo-crack detection by machine ...</td>\n",
       "      <td>Shi, Yongxiang||Ballesio, Marco||Johansen, Kas...</td>\n",
       "      <td>Frontiers in Earth Science</td>\n",
       "      <td>Frontiers Media SA</td>\n",
       "      <td>10.3389/feart.2023.1073211</td>\n",
       "      <td>http://hdl.handle.net/10754/691064</td>\n",
       "      <td>2023-03-10</td>\n",
       "      <td>Shi, Y., Ballesio, M., Johansen, K., Trentman,...</td>\n",
       "      <td>Introduction: Cracks are a key feature that de...</td>\n",
       "      <td>https://creativecommons.org/licenses/by/4.0/</td>\n",
       "      <td>Published</td>\n",
       "      <td>https://repository.kaust.edu.sa/bitstream/1075...</td>\n",
       "      <td>NaN</td>\n",
       "      <td>2023-04-12T15:40:08</td>\n",
       "    </tr>\n",
       "    <tr>\n",
       "      <th>1</th>\n",
       "      <td>Article</td>\n",
       "      <td>From electronic structure to model application...</td>\n",
       "      <td>Yalamanchi, Kiran K.||Bai, Xin||Fernando, Niva...</td>\n",
       "      <td>Combustion and Flame</td>\n",
       "      <td>Elsevier BV</td>\n",
       "      <td>10.1016/j.combustflame.2023.112742</td>\n",
       "      <td>http://hdl.handle.net/10754/691063</td>\n",
       "      <td>2023-03-27</td>\n",
       "      <td>Yalamanchi, K. K., Bai, X., Fernando, N. D., L...</td>\n",
       "      <td>H-atom abstraction by methoxy radical (CH3Ȯ) p...</td>\n",
       "      <td>NaN</td>\n",
       "      <td>Published</td>\n",
       "      <td>NaN</td>\n",
       "      <td>NaN</td>\n",
       "      <td>2023-04-12T15:30:09</td>\n",
       "    </tr>\n",
       "    <tr>\n",
       "      <th>2</th>\n",
       "      <td>Preprint</td>\n",
       "      <td>Stabilizing Ruthenium Dioxide with Cation-Anch...</td>\n",
       "      <td>Xue, Yanrong||Zhao, Jiwu||Huang, Liang||Lu, Yi...</td>\n",
       "      <td>NaN</td>\n",
       "      <td>Elsevier BV</td>\n",
       "      <td>10.2139/ssrn.4406469</td>\n",
       "      <td>http://hdl.handle.net/10754/691062</td>\n",
       "      <td>2023-04-03</td>\n",
       "      <td>Xue, Y., Zhao, J., Huang, L., Lu, Y.-R., Malek...</td>\n",
       "      <td>Ruthenium dioxide (RuO2) is the most promising...</td>\n",
       "      <td>NaN</td>\n",
       "      <td>Under Review</td>\n",
       "      <td>https://repository.kaust.edu.sa/bitstream/1075...</td>\n",
       "      <td>NaN</td>\n",
       "      <td>2023-04-12T15:20:08</td>\n",
       "    </tr>\n",
       "    <tr>\n",
       "      <th>3</th>\n",
       "      <td>Preprint</td>\n",
       "      <td>Lidar-Assisted Acquisition of Mobile Airborne ...</td>\n",
       "      <td>Liu, Heyou||Bashir, Muhammad Salman||Alouini, ...</td>\n",
       "      <td>NaN</td>\n",
       "      <td>arXiv</td>\n",
       "      <td>NaN</td>\n",
       "      <td>http://hdl.handle.net/10754/691061</td>\n",
       "      <td>2023-04-06</td>\n",
       "      <td>NaN</td>\n",
       "      <td>For acquisition of narrow-beam free-space opti...</td>\n",
       "      <td>NaN</td>\n",
       "      <td>Under Review</td>\n",
       "      <td>https://repository.kaust.edu.sa/bitstream/1075...</td>\n",
       "      <td>NaN</td>\n",
       "      <td>2023-04-12T15:10:09</td>\n",
       "    </tr>\n",
       "    <tr>\n",
       "      <th>4</th>\n",
       "      <td>Preprint</td>\n",
       "      <td>Coverage Analysis and Trajectory Optimization ...</td>\n",
       "      <td>Qin, Yujie||Kishk, Mustafa A.||Alouini, Mohame...</td>\n",
       "      <td>NaN</td>\n",
       "      <td>arXiv</td>\n",
       "      <td>NaN</td>\n",
       "      <td>http://hdl.handle.net/10754/691060</td>\n",
       "      <td>2023-04-06</td>\n",
       "      <td>NaN</td>\n",
       "      <td>In this paper, we consider a novel cellular ne...</td>\n",
       "      <td>NaN</td>\n",
       "      <td>Under Review</td>\n",
       "      <td>https://repository.kaust.edu.sa/bitstream/1075...</td>\n",
       "      <td>NaN</td>\n",
       "      <td>2023-04-12T15:00:08</td>\n",
       "    </tr>\n",
       "  </tbody>\n",
       "</table>\n",
       "</div>"
      ],
      "text/plain": [
       "       Type                                              Title   \n",
       "0   Article  Semi-universal geo-crack detection by machine ...  \\\n",
       "1   Article  From electronic structure to model application...   \n",
       "2  Preprint  Stabilizing Ruthenium Dioxide with Cation-Anch...   \n",
       "3  Preprint  Lidar-Assisted Acquisition of Mobile Airborne ...   \n",
       "4  Preprint  Coverage Analysis and Trajectory Optimization ...   \n",
       "\n",
       "                                             Authors   \n",
       "0  Shi, Yongxiang||Ballesio, Marco||Johansen, Kas...  \\\n",
       "1  Yalamanchi, Kiran K.||Bai, Xin||Fernando, Niva...   \n",
       "2  Xue, Yanrong||Zhao, Jiwu||Huang, Liang||Lu, Yi...   \n",
       "3  Liu, Heyou||Bashir, Muhammad Salman||Alouini, ...   \n",
       "4  Qin, Yujie||Kishk, Mustafa A.||Alouini, Mohame...   \n",
       "\n",
       "                      Journal           Publisher   \n",
       "0  Frontiers in Earth Science  Frontiers Media SA  \\\n",
       "1        Combustion and Flame         Elsevier BV   \n",
       "2                         NaN         Elsevier BV   \n",
       "3                         NaN               arXiv   \n",
       "4                         NaN               arXiv   \n",
       "\n",
       "                                  DOI                              Handle   \n",
       "0          10.3389/feart.2023.1073211  http://hdl.handle.net/10754/691064  \\\n",
       "1  10.1016/j.combustflame.2023.112742  http://hdl.handle.net/10754/691063   \n",
       "2                10.2139/ssrn.4406469  http://hdl.handle.net/10754/691062   \n",
       "3                                 NaN  http://hdl.handle.net/10754/691061   \n",
       "4                                 NaN  http://hdl.handle.net/10754/691060   \n",
       "\n",
       "  Publication Date                                           Citation   \n",
       "0       2023-03-10  Shi, Y., Ballesio, M., Johansen, K., Trentman,...  \\\n",
       "1       2023-03-27  Yalamanchi, K. K., Bai, X., Fernando, N. D., L...   \n",
       "2       2023-04-03  Xue, Y., Zhao, J., Huang, L., Lu, Y.-R., Malek...   \n",
       "3       2023-04-06                                                NaN   \n",
       "4       2023-04-06                                                NaN   \n",
       "\n",
       "                                            Abstract   \n",
       "0  Introduction: Cracks are a key feature that de...  \\\n",
       "1  H-atom abstraction by methoxy radical (CH3Ȯ) p...   \n",
       "2  Ruthenium dioxide (RuO2) is the most promising...   \n",
       "3  For acquisition of narrow-beam free-space opti...   \n",
       "4  In this paper, we consider a novel cellular ne...   \n",
       "\n",
       "                                Link to License        Status   \n",
       "0  https://creativecommons.org/licenses/by/4.0/     Published  \\\n",
       "1                                           NaN     Published   \n",
       "2                                           NaN  Under Review   \n",
       "3                                           NaN  Under Review   \n",
       "4                                           NaN  Under Review   \n",
       "\n",
       "                                         Link to PDF Link to Extracted Text   \n",
       "0  https://repository.kaust.edu.sa/bitstream/1075...                    NaN  \\\n",
       "1                                                NaN                    NaN   \n",
       "2  https://repository.kaust.edu.sa/bitstream/1075...                    NaN   \n",
       "3  https://repository.kaust.edu.sa/bitstream/1075...                    NaN   \n",
       "4  https://repository.kaust.edu.sa/bitstream/1075...                    NaN   \n",
       "\n",
       "  Metadata Last Modified  \n",
       "0    2023-04-12T15:40:08  \n",
       "1    2023-04-12T15:30:09  \n",
       "2    2023-04-12T15:20:08  \n",
       "3    2023-04-12T15:10:09  \n",
       "4    2023-04-12T15:00:08  "
      ]
     },
     "execution_count": 6,
     "metadata": {},
     "output_type": "execute_result"
    }
   ],
   "source": [
    "repo_df.head()"
   ]
  },
  {
   "attachments": {},
   "cell_type": "markdown",
   "metadata": {},
   "source": [
    "Remove all rows without DOI."
   ]
  },
  {
   "attachments": {},
   "cell_type": "markdown",
   "metadata": {},
   "source": [
    "## Counting Publication Types"
   ]
  },
  {
   "attachments": {},
   "cell_type": "markdown",
   "metadata": {},
   "source": [
    "Couting the type of publications, that is, how many articles, preprints, etc are in the dataset. "
   ]
  },
  {
   "cell_type": "code",
   "execution_count": 13,
   "metadata": {},
   "outputs": [
    {
     "data": {
      "text/plain": [
       "Type\n",
       "Article                           283\n",
       "Preprint                          112\n",
       "Conference Paper                   59\n",
       "Presentation                       15\n",
       "Book Chapter                        9\n",
       "Poster                              8\n",
       "Article||Editorial                  2\n",
       "Book                                2\n",
       "Book Chapter||Editorial             2\n",
       "Report                              2\n",
       "Protocol                            2\n",
       "Dataset                             1\n",
       "Conference Paper||Poster            1\n",
       "Conference Paper||Presentation      1\n",
       "Name: count, dtype: int64"
      ]
     },
     "execution_count": 13,
     "metadata": {},
     "output_type": "execute_result"
    }
   ],
   "source": [
    "repo_df['Type'].value_counts()"
   ]
  },
  {
   "attachments": {},
   "cell_type": "markdown",
   "metadata": {},
   "source": [
    "Probably was expected that the majority of publications are _articles_. "
   ]
  },
  {
   "attachments": {},
   "cell_type": "markdown",
   "metadata": {},
   "source": [
    "Next we create a dataframe with articles, and ask what are the top publishers:"
   ]
  },
  {
   "cell_type": "code",
   "execution_count": 16,
   "metadata": {},
   "outputs": [],
   "source": [
    "artices = repo_df['Type'] == \"Article\"\n",
    "articles_df = repo_df[artices]"
   ]
  },
  {
   "cell_type": "code",
   "execution_count": 19,
   "metadata": {},
   "outputs": [
    {
     "data": {
      "text/plain": [
       "Publisher\n",
       "Elsevier BV                                                 65\n",
       "Springer Science and Business Media LLC                     36\n",
       "Wiley                                                       28\n",
       "Institute of Electrical and Electronics Engineers (IEEE)    21\n",
       "Royal Society of Chemistry (RSC)                            20\n",
       "American Chemical Society (ACS)                             19\n",
       "MDPI AG                                                     18\n",
       "Frontiers Media SA                                          14\n",
       "AIP Publishing                                               5\n",
       "Oxford University Press (OUP)                                5\n",
       "Name: count, dtype: int64"
      ]
     },
     "execution_count": 19,
     "metadata": {},
     "output_type": "execute_result"
    }
   ],
   "source": [
    "articles_df['Publisher'].value_counts().head(10)"
   ]
  },
  {
   "cell_type": "code",
   "execution_count": null,
   "metadata": {},
   "outputs": [],
   "source": []
  }
 ],
 "metadata": {
  "kernelspec": {
   "display_name": "venv",
   "language": "python",
   "name": "python3"
  },
  "language_info": {
   "codemirror_mode": {
    "name": "ipython",
    "version": 3
   },
   "file_extension": ".py",
   "mimetype": "text/x-python",
   "name": "python",
   "nbconvert_exporter": "python",
   "pygments_lexer": "ipython3",
   "version": "3.10.7"
  },
  "orig_nbformat": 4
 },
 "nbformat": 4,
 "nbformat_minor": 2
}
