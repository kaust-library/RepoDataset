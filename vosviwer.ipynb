{
 "cells": [
  {
   "attachments": {},
   "cell_type": "markdown",
   "metadata": {},
   "source": [
    "# Exporting to Vosviewer"
   ]
  },
  {
   "attachments": {},
   "cell_type": "markdown",
   "metadata": {},
   "source": [
    "Exporting our dataset to file compatible with [Vosviewer](https://www.vosviewer.com/)."
   ]
  },
  {
   "cell_type": "code",
   "execution_count": 12,
   "metadata": {},
   "outputs": [],
   "source": [
    "import pandas as pd"
   ]
  },
  {
   "cell_type": "code",
   "execution_count": 13,
   "metadata": {},
   "outputs": [],
   "source": [
    "repo_df = pd.read_csv('data/KAUST_Affiliated_Research_Basic_Metadata.csv')"
   ]
  },
  {
   "cell_type": "code",
   "execution_count": 14,
   "metadata": {},
   "outputs": [],
   "source": [
    "artices = repo_df['Type'] == \"Article\"\n",
    "articles_df = repo_df[artices]"
   ]
  },
  {
   "cell_type": "code",
   "execution_count": 15,
   "metadata": {},
   "outputs": [],
   "source": [
    "articles_vos = articles_df[[\"Handle\", \"DOI\",\"Title\", \"Publisher\",\"Authors\", \"Abstract\"]]"
   ]
  },
  {
   "cell_type": "code",
   "execution_count": 16,
   "metadata": {},
   "outputs": [
    {
     "data": {
      "text/plain": [
       "(20927, 6)"
      ]
     },
     "execution_count": 16,
     "metadata": {},
     "output_type": "execute_result"
    }
   ],
   "source": [
    "articles_vos.shape"
   ]
  },
  {
   "cell_type": "code",
   "execution_count": 17,
   "metadata": {},
   "outputs": [
    {
     "data": {
      "text/plain": [
       "Handle       False\n",
       "DOI           True\n",
       "Title        False\n",
       "Publisher     True\n",
       "Authors       True\n",
       "Abstract      True\n",
       "dtype: bool"
      ]
     },
     "execution_count": 17,
     "metadata": {},
     "output_type": "execute_result"
    }
   ],
   "source": [
    "articles_vos.isnull().any()"
   ]
  },
  {
   "cell_type": "code",
   "execution_count": 18,
   "metadata": {},
   "outputs": [],
   "source": [
    "articles_vos = articles_vos.dropna(axis=1, how='all')"
   ]
  },
  {
   "cell_type": "code",
   "execution_count": 19,
   "metadata": {},
   "outputs": [
    {
     "data": {
      "text/plain": [
       "(20927, 6)"
      ]
     },
     "execution_count": 19,
     "metadata": {},
     "output_type": "execute_result"
    }
   ],
   "source": [
    "articles_vos.shape"
   ]
  },
  {
   "cell_type": "code",
   "execution_count": 20,
   "metadata": {},
   "outputs": [],
   "source": [
    "articles_vos.to_csv('data/repo2vos_bad.csv', header=False, index=False)"
   ]
  },
  {
   "cell_type": "code",
   "execution_count": 21,
   "metadata": {},
   "outputs": [],
   "source": [
    "def repo2vos(authors):\n",
    "    \"\"\"Convert the authors separator '||' to vosviwer ';'\"\"\"\n",
    "    print(authors)\n",
    "    return authors.replace(\"||\", \";\")"
   ]
  },
  {
   "cell_type": "code",
   "execution_count": 24,
   "metadata": {},
   "outputs": [],
   "source": [
    "articles_vos['AuthorsVos'] = articles_vos['Authors'].apply(lambda aa:  isinstance(aa, str) and aa.replace(\"||\", \";\") or str(aa))"
   ]
  },
  {
   "cell_type": "code",
   "execution_count": 25,
   "metadata": {},
   "outputs": [
    {
     "data": {
      "text/html": [
       "<div>\n",
       "<style scoped>\n",
       "    .dataframe tbody tr th:only-of-type {\n",
       "        vertical-align: middle;\n",
       "    }\n",
       "\n",
       "    .dataframe tbody tr th {\n",
       "        vertical-align: top;\n",
       "    }\n",
       "\n",
       "    .dataframe thead th {\n",
       "        text-align: right;\n",
       "    }\n",
       "</style>\n",
       "<table border=\"1\" class=\"dataframe\">\n",
       "  <thead>\n",
       "    <tr style=\"text-align: right;\">\n",
       "      <th></th>\n",
       "      <th>Handle</th>\n",
       "      <th>DOI</th>\n",
       "      <th>Title</th>\n",
       "      <th>Publisher</th>\n",
       "      <th>Authors</th>\n",
       "      <th>Abstract</th>\n",
       "      <th>AuthorsVos</th>\n",
       "    </tr>\n",
       "  </thead>\n",
       "  <tbody>\n",
       "    <tr>\n",
       "      <th>0</th>\n",
       "      <td>http://hdl.handle.net/10754/691064</td>\n",
       "      <td>10.3389/feart.2023.1073211</td>\n",
       "      <td>Semi-universal geo-crack detection by machine ...</td>\n",
       "      <td>Frontiers Media SA</td>\n",
       "      <td>Shi, Yongxiang||Ballesio, Marco||Johansen, Kas...</td>\n",
       "      <td>Introduction: Cracks are a key feature that de...</td>\n",
       "      <td>Shi, Yongxiang;Ballesio, Marco;Johansen, Kaspe...</td>\n",
       "    </tr>\n",
       "    <tr>\n",
       "      <th>1</th>\n",
       "      <td>http://hdl.handle.net/10754/691063</td>\n",
       "      <td>10.1016/j.combustflame.2023.112742</td>\n",
       "      <td>From electronic structure to model application...</td>\n",
       "      <td>Elsevier BV</td>\n",
       "      <td>Yalamanchi, Kiran K.||Bai, Xin||Fernando, Niva...</td>\n",
       "      <td>H-atom abstraction by methoxy radical (CH3Ȯ) p...</td>\n",
       "      <td>Yalamanchi, Kiran K.;Bai, Xin;Fernando, Nivain...</td>\n",
       "    </tr>\n",
       "    <tr>\n",
       "      <th>10</th>\n",
       "      <td>http://hdl.handle.net/10754/691054</td>\n",
       "      <td>10.1007/s00245-023-09982-4</td>\n",
       "      <td>Structural Changes in Nonlocal Denoising Model...</td>\n",
       "      <td>Springer Science and Business Media LLC</td>\n",
       "      <td>Davoli, Elisa||Ferreira, Rita||Kreisbeck, Caro...</td>\n",
       "      <td>We introduce a unified framework based on bi-l...</td>\n",
       "      <td>Davoli, Elisa;Ferreira, Rita;Kreisbeck, Caroli...</td>\n",
       "    </tr>\n",
       "    <tr>\n",
       "      <th>11</th>\n",
       "      <td>http://hdl.handle.net/10754/691053</td>\n",
       "      <td>10.1021/acsmaterialslett.3c00110</td>\n",
       "      <td>CdS/CdSe/CdS Spherical Quantum Wells with Near...</td>\n",
       "      <td>American Chemical Society (ACS)</td>\n",
       "      <td>Marder, Andrew A.||Cassidy, James||Harankahage...</td>\n",
       "      <td>Compared to zero-dimensional (0D) semiconducto...</td>\n",
       "      <td>Marder, Andrew A.;Cassidy, James;Harankahage, ...</td>\n",
       "    </tr>\n",
       "    <tr>\n",
       "      <th>12</th>\n",
       "      <td>http://hdl.handle.net/10754/691052</td>\n",
       "      <td>10.1021/acscatal.3c00555</td>\n",
       "      <td>Advances in One-Pot Chiral Amine Synthesis Ena...</td>\n",
       "      <td>American Chemical Society (ACS)</td>\n",
       "      <td>Mathew, Sam||Renn, Dominik||Rueping, Magnus</td>\n",
       "      <td>Amine transaminases constitute an important cl...</td>\n",
       "      <td>Mathew, Sam;Renn, Dominik;Rueping, Magnus</td>\n",
       "    </tr>\n",
       "  </tbody>\n",
       "</table>\n",
       "</div>"
      ],
      "text/plain": [
       "                                Handle                                 DOI   \n",
       "0   http://hdl.handle.net/10754/691064          10.3389/feart.2023.1073211  \\\n",
       "1   http://hdl.handle.net/10754/691063  10.1016/j.combustflame.2023.112742   \n",
       "10  http://hdl.handle.net/10754/691054          10.1007/s00245-023-09982-4   \n",
       "11  http://hdl.handle.net/10754/691053    10.1021/acsmaterialslett.3c00110   \n",
       "12  http://hdl.handle.net/10754/691052            10.1021/acscatal.3c00555   \n",
       "\n",
       "                                                Title   \n",
       "0   Semi-universal geo-crack detection by machine ...  \\\n",
       "1   From electronic structure to model application...   \n",
       "10  Structural Changes in Nonlocal Denoising Model...   \n",
       "11  CdS/CdSe/CdS Spherical Quantum Wells with Near...   \n",
       "12  Advances in One-Pot Chiral Amine Synthesis Ena...   \n",
       "\n",
       "                                  Publisher   \n",
       "0                        Frontiers Media SA  \\\n",
       "1                               Elsevier BV   \n",
       "10  Springer Science and Business Media LLC   \n",
       "11          American Chemical Society (ACS)   \n",
       "12          American Chemical Society (ACS)   \n",
       "\n",
       "                                              Authors   \n",
       "0   Shi, Yongxiang||Ballesio, Marco||Johansen, Kas...  \\\n",
       "1   Yalamanchi, Kiran K.||Bai, Xin||Fernando, Niva...   \n",
       "10  Davoli, Elisa||Ferreira, Rita||Kreisbeck, Caro...   \n",
       "11  Marder, Andrew A.||Cassidy, James||Harankahage...   \n",
       "12        Mathew, Sam||Renn, Dominik||Rueping, Magnus   \n",
       "\n",
       "                                             Abstract   \n",
       "0   Introduction: Cracks are a key feature that de...  \\\n",
       "1   H-atom abstraction by methoxy radical (CH3Ȯ) p...   \n",
       "10  We introduce a unified framework based on bi-l...   \n",
       "11  Compared to zero-dimensional (0D) semiconducto...   \n",
       "12  Amine transaminases constitute an important cl...   \n",
       "\n",
       "                                           AuthorsVos  \n",
       "0   Shi, Yongxiang;Ballesio, Marco;Johansen, Kaspe...  \n",
       "1   Yalamanchi, Kiran K.;Bai, Xin;Fernando, Nivain...  \n",
       "10  Davoli, Elisa;Ferreira, Rita;Kreisbeck, Caroli...  \n",
       "11  Marder, Andrew A.;Cassidy, James;Harankahage, ...  \n",
       "12          Mathew, Sam;Renn, Dominik;Rueping, Magnus  "
      ]
     },
     "execution_count": 25,
     "metadata": {},
     "output_type": "execute_result"
    }
   ],
   "source": [
    "articles_vos.head()"
   ]
  },
  {
   "cell_type": "code",
   "execution_count": 26,
   "metadata": {},
   "outputs": [],
   "source": [
    "articles_authors_vos = articles_vos.drop('Authors', axis=1)"
   ]
  },
  {
   "cell_type": "code",
   "execution_count": 27,
   "metadata": {},
   "outputs": [],
   "source": [
    "vos_header=[\"Publication ID\", \"DOI\", \"Title\", \"Publisher\",\"Abstract\", \"Authors\"]\n",
    "articles_authors_vos.to_csv('data/repo2vos.csv', header=vos_header, index=False)"
   ]
  },
  {
   "cell_type": "code",
   "execution_count": null,
   "metadata": {},
   "outputs": [],
   "source": []
  }
 ],
 "metadata": {
  "kernelspec": {
   "display_name": "venv",
   "language": "python",
   "name": "python3"
  },
  "language_info": {
   "codemirror_mode": {
    "name": "ipython",
    "version": 3
   },
   "file_extension": ".py",
   "mimetype": "text/x-python",
   "name": "python",
   "nbconvert_exporter": "python",
   "pygments_lexer": "ipython3",
   "version": "3.10.10"
  },
  "orig_nbformat": 4
 },
 "nbformat": 4,
 "nbformat_minor": 2
}
