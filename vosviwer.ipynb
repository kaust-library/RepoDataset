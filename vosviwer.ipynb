{
 "cells": [
  {
   "attachments": {},
   "cell_type": "markdown",
   "metadata": {},
   "source": [
    "# Exporting to Vosviewer"
   ]
  },
  {
   "attachments": {},
   "cell_type": "markdown",
   "metadata": {},
   "source": [
    "Exporting our dataset to file compatible with [Vosviewer](https://www.vosviewer.com/)."
   ]
  },
  {
   "cell_type": "code",
   "execution_count": 1,
   "metadata": {},
   "outputs": [],
   "source": [
    "import pandas as pd\n",
    "from pathlib import Path"
   ]
  },
  {
   "cell_type": "code",
   "execution_count": 2,
   "metadata": {},
   "outputs": [],
   "source": [
    "data_dir = 'data'\n",
    "data_csv = 'KAUST_Affiliated_Research_Basic_Metadata.csv'\n",
    "data_file = Path(data_dir).joinpath(data_csv)"
   ]
  },
  {
   "cell_type": "code",
   "execution_count": 3,
   "metadata": {},
   "outputs": [],
   "source": [
    "repo_df = pd.read_csv(data_file)"
   ]
  },
  {
   "attachments": {},
   "cell_type": "markdown",
   "metadata": {},
   "source": [
    "We are only interested in the articles"
   ]
  },
  {
   "cell_type": "code",
   "execution_count": 4,
   "metadata": {},
   "outputs": [],
   "source": [
    "artices = repo_df['Type'] == \"Article\"\n",
    "articles_df = repo_df[artices]"
   ]
  },
  {
   "attachments": {},
   "cell_type": "markdown",
   "metadata": {},
   "source": [
    "We are going to create specific graphs based on a keyword."
   ]
  },
  {
   "cell_type": "code",
   "execution_count": 5,
   "metadata": {},
   "outputs": [],
   "source": [
    "vos_types = {\n",
    "    'all': [\"Handle\", \"DOI\",\"Title\", \"Publisher\",\"Authors\", \"Abstract\"],\n",
    "    'authors': [\"Handle\", \"DOI\",\"Authors\"],\n",
    "    'title': [\"Handle\", \"DOI\",\"Title\"],\n",
    "    'abstract': [\"Handle\", \"DOI\",\"Abstract\"]\n",
    "}\n",
    "\n",
    "vos_type = 'authors'\n",
    "\n",
    "if vos_type not in vos_types.keys():\n",
    "    raise ValueError('type of report not valid')\n",
    "\n",
    "\n",
    "articles_vos = articles_df[vos_types[vos_type]]"
   ]
  },
  {
   "cell_type": "code",
   "execution_count": 13,
   "metadata": {},
   "outputs": [
    {
     "data": {
      "text/plain": [
       "['Handle', 'DOI', 'Authors']"
      ]
     },
     "execution_count": 13,
     "metadata": {},
     "output_type": "execute_result"
    }
   ],
   "source": [
    "vos_types['authors']"
   ]
  },
  {
   "cell_type": "code",
   "execution_count": 6,
   "metadata": {},
   "outputs": [],
   "source": [
    "articles_vos = articles_vos.dropna(axis=1, how='all')"
   ]
  },
  {
   "attachments": {},
   "cell_type": "markdown",
   "metadata": {},
   "source": [
    "If we are dealing with the authors we may have to convert the separator from \"||\" to \";\". Once we fix the separator, we drop the old column."
   ]
  },
  {
   "cell_type": "code",
   "execution_count": 7,
   "metadata": {},
   "outputs": [],
   "source": [
    "if vos_type == 'authors':\n",
    "    articles_vos['AuthorsVos'] = articles_vos['Authors'].apply(lambda aa:  isinstance(aa, str) and aa.replace(\"||\", \";\") or str(aa))\n",
    "    articles_vos = articles_vos.drop('Authors', axis=1)"
   ]
  },
  {
   "cell_type": "code",
   "execution_count": 8,
   "metadata": {},
   "outputs": [],
   "source": [
    "vos_file = Path(data_dir).joinpath(f\"vosviewer_{vos_type}.csv\")"
   ]
  },
  {
   "cell_type": "code",
   "execution_count": 16,
   "metadata": {},
   "outputs": [
    {
     "name": "stdout",
     "output_type": "stream",
     "text": [
      "['Handle', 'DOI', 'Authors']\n"
     ]
    }
   ],
   "source": [
    "vos_header=vos_types[vos_type]\n",
    "print(vos_header)\n",
    "articles_vos.to_csv(vos_file, header=vos_header, index=False)"
   ]
  }
 ],
 "metadata": {
  "kernelspec": {
   "display_name": "venv",
   "language": "python",
   "name": "python3"
  },
  "language_info": {
   "codemirror_mode": {
    "name": "ipython",
    "version": 3
   },
   "file_extension": ".py",
   "mimetype": "text/x-python",
   "name": "python",
   "nbconvert_exporter": "python",
   "pygments_lexer": "ipython3",
   "version": "3.10.10"
  },
  "orig_nbformat": 4
 },
 "nbformat": 4,
 "nbformat_minor": 2
}
